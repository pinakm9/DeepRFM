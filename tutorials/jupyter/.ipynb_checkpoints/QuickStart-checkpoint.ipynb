{
 "cells": [
  {
   "cell_type": "code",
   "execution_count": 5,
   "id": "0198efd2-c020-4ee2-9dfc-ceb13241996f",
   "metadata": {},
   "outputs": [
    {
     "name": "stdout",
     "output_type": "stream",
     "text": [
      "Time taken by gen_data is 39.6794 seconds\n"
     ]
    }
   ],
   "source": [
    "# import necessary modules\n",
    "import os, sys\n",
    "import torch\n",
    "sys.path.insert(0, \"../../modules\") #<--- add modules folder to Python's seach path\n",
    "import l96\n",
    "import localDeepSkip #<--- import the version of random feature model you'd like to train\n",
    "\n",
    "\n",
    "train, test = l96.gen_data()\n",
    "device = \"cuda\" if torch.cuda.is_available() else \"cpu\"\n",
    "train, test = torch.tensor(train, device=device), torch.tensor(test, device=device)"
   ]
  },
  {
   "cell_type": "code",
   "execution_count": 22,
   "id": "a9f222e0-b53a-4a3f-9f3c-970f77f0bcb9",
   "metadata": {},
   "outputs": [
    {
     "name": "stdout",
     "output_type": "stream",
     "text": [
      "Time taken by compute_tau_f is 0.3337 seconds\n",
      "VPT on the test path = 4.15\n"
     ]
    }
   ],
   "source": [
    "# set up architecture and hit-and-run\n",
    "G, I = 2, 2 #<--- localization scheme\n",
    "model = localDeepSkip.DeepRF(D_r=2048, B=2, L0=0.4, L1=3.5, Uo=train, beta=9.64e-9,\\\n",
    "                            name='surrogate_model', save_folder='.', normalize=False, G=2, I=2)\n",
    "# assign the non-trainable parameters and train the rest\n",
    "model.learn(train[:, :int(1e5)], seed=42) \n",
    "# evaluate the model on a test trajectory\n",
    "vpt = model.compute_tau_f(test[99:100], error_threshold=0.25, dt=0.01, Lyapunov_time=1/2.27)[0]\n",
    "print(f\"VPT on the test path = {vpt[0].item():.2f}\")"
   ]
  },
  {
   "cell_type": "code",
   "execution_count": null,
   "id": "c0be2873-5a56-462d-82e0-477ce91ed006",
   "metadata": {},
   "outputs": [],
   "source": []
  }
 ],
 "metadata": {
  "kernelspec": {
   "display_name": "Python 3 (ipykernel)",
   "language": "python",
   "name": "python3"
  },
  "language_info": {
   "codemirror_mode": {
    "name": "ipython",
    "version": 3
   },
   "file_extension": ".py",
   "mimetype": "text/x-python",
   "name": "python",
   "nbconvert_exporter": "python",
   "pygments_lexer": "ipython3",
   "version": "3.11.5"
  }
 },
 "nbformat": 4,
 "nbformat_minor": 5
}
