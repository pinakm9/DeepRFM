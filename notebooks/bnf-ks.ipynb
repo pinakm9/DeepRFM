{
 "cells": [
  {
   "cell_type": "code",
   "execution_count": 1,
   "id": "1752172a-7141-46e7-b0f0-ec6df34ee852",
   "metadata": {},
   "outputs": [],
   "source": [
    "import os, sys \n",
    "from pathlib import Path\n",
    "from os.path import dirname, realpath\n",
    "script_dir = Path(dirname(realpath('.')))\n",
    "module_dir = str(script_dir)\n",
    "sys.path.insert(0, module_dir + '/modules')\n",
    "import numpy as np\n",
    "import utility as ut\n",
    "import matplotlib.pyplot as plt\n",
    "import pandas as pd\n",
    "import warnings\n",
    "from scipy import stats\n",
    "import seaborn as sns\n",
    "import oneshot as sm\n",
    "import rfm, skipRFM, deepSkip, localSkip\n",
    "# import parallel_euler as arch1\n",
    "import torch\n",
    "from torch import nn\n",
    "import l63, glob, count_params\n",
    "import config as cf\n",
    "from matplotlib.text import Text\n",
    "from matplotlib import ticker\n",
    "from matplotlib.collections import PolyCollection\n",
    "from scipy.stats import ks_2samp \n",
    "import count_params as cp\n",
    "import wasserstein as ws\n",
    "import json\n",
    "\n",
    "\n",
    "dynamical_system = 'KS-200'\n",
    "root = f'../data/{dynamical_system}/config_1'"
   ]
  },
  {
   "cell_type": "code",
   "execution_count": 2,
   "id": "0b62f7e9-0d45-4e6e-a13b-fef88e929176",
   "metadata": {},
   "outputs": [],
   "source": [
    "ut.convert_npy_to_csv(f\"{root}/attractor/train.npy\")"
   ]
  },
  {
   "cell_type": "code",
   "execution_count": 4,
   "id": "deee2de4-0548-43b6-842e-34341823aa45",
   "metadata": {},
   "outputs": [],
   "source": [
    "arr = np.load(f\"{root}/attractor/test.npy\")"
   ]
  },
  {
   "cell_type": "code",
   "execution_count": 5,
   "id": "71cbe149-c5ee-4da1-ae97-5fdff546dc8d",
   "metadata": {},
   "outputs": [
    {
     "data": {
      "text/plain": [
       "(100, 512, 1000)"
      ]
     },
     "execution_count": 5,
     "metadata": {},
     "output_type": "execute_result"
    }
   ],
   "source": [
    "arr.shape"
   ]
  },
  {
   "cell_type": "code",
   "execution_count": 3,
   "id": "0e7e13e6-c0e7-4b62-979b-99a28c591f2e",
   "metadata": {},
   "outputs": [],
   "source": [
    "df = pd.read_csv(f\"{root}/attractor/train.csv\")"
   ]
  },
  {
   "cell_type": "code",
   "execution_count": 5,
   "id": "c2e570e9-62e8-4fa4-aa65-19d438fb6270",
   "metadata": {},
   "outputs": [
    {
     "data": {
      "text/plain": [
       "(100000,)"
      ]
     },
     "execution_count": 5,
     "metadata": {},
     "output_type": "execute_result"
    }
   ],
   "source": [
    "df[\"Space_100\"].shape"
   ]
  },
  {
   "cell_type": "code",
   "execution_count": 4,
   "id": "760428cc-eb44-4f7d-bb75-a5183adb143c",
   "metadata": {},
   "outputs": [
    {
     "data": {
      "text/plain": [
       "array([0.  , 0.25, 0.5 , 0.75, 1.  , 1.25, 1.5 , 1.75, 2.  , 2.25])"
      ]
     },
     "execution_count": 4,
     "metadata": {},
     "output_type": "execute_result"
    }
   ],
   "source": [
    "np.arange(10)*0.25"
   ]
  },
  {
   "cell_type": "code",
   "execution_count": 5,
   "id": "afddaca3-12b0-4d40-93e1-eb5fef4f1411",
   "metadata": {},
   "outputs": [
    {
     "data": {
      "text/plain": [
       "array([2.5 , 2.75, 3.  , 3.25, 3.5 , 3.75, 4.  , 4.25, 4.5 , 4.75])"
      ]
     },
     "execution_count": 5,
     "metadata": {},
     "output_type": "execute_result"
    }
   ],
   "source": [
    "(10+np.arange(10))*0.25"
   ]
  },
  {
   "cell_type": "code",
   "execution_count": null,
   "id": "bc69a755-99a8-43bd-9783-bed876dbab8e",
   "metadata": {},
   "outputs": [],
   "source": []
  }
 ],
 "metadata": {
  "kernelspec": {
   "display_name": "Python 3 (ipykernel)",
   "language": "python",
   "name": "python3"
  },
  "language_info": {
   "codemirror_mode": {
    "name": "ipython",
    "version": 3
   },
   "file_extension": ".py",
   "mimetype": "text/x-python",
   "name": "python",
   "nbconvert_exporter": "python",
   "pygments_lexer": "ipython3",
   "version": "3.11.5"
  }
 },
 "nbformat": 4,
 "nbformat_minor": 5
}
