{
 "cells": [
  {
   "cell_type": "code",
   "execution_count": 1,
   "id": "1bf4a5a7-0a4e-4211-b1b6-c4d8ed744ffd",
   "metadata": {},
   "outputs": [],
   "source": [
    "root = \"../data/plots/final\""
   ]
  },
  {
   "cell_type": "markdown",
   "id": "b4dd3a38-0f0b-4297-95f6-7ab11f0d7eec",
   "metadata": {},
   "source": [
    "**Figure 2**"
   ]
  },
  {
   "cell_type": "code",
   "execution_count": 9,
   "id": "60b3d36e-2a14-4ce4-9659-162aea37438f",
   "metadata": {},
   "outputs": [
    {
     "name": "stdout",
     "output_type": "stream",
     "text": [
      "0.0 0.0\n"
     ]
    }
   ],
   "source": [
    "import fitz  # PyMuPDF\n",
    "\n",
    "\n",
    "def merge_vertically(pdf1_path, pdf2_path, output_path, padding=20):\n",
    "    doc1 = fitz.open(pdf1_path)\n",
    "    doc2 = fitz.open(pdf2_path)\n",
    "\n",
    "    page1 = doc1[0]\n",
    "    page2 = doc2[0]\n",
    "\n",
    "    fig1_width, fig1_height = page1.rect.width, page1.rect.height\n",
    "    fig2_width, fig2_height = page2.rect.width, page2.rect.height\n",
    "\n",
    "    # Output dimensions\n",
    "    output_width = max(fig1_width, fig2_width)\n",
    "    output_height = fig1_height + padding + fig2_height\n",
    "\n",
    "    merged = fitz.open()\n",
    "    new_page = merged.new_page(width=output_width+10, height=output_height+10)\n",
    "\n",
    "    # Compute horizontal centering\n",
    "    x1 = (output_width - fig1_width) / 2\n",
    "    x2 = (output_width - fig2_width) / 2\n",
    "\n",
    "    # Vertical positions\n",
    "    y1 = 0\n",
    "    y2 = fig1_height + padding\n",
    "\n",
    "    # Define rectangles\n",
    "    rect1 = fitz.Rect(x1, y1, x1 + fig1_width, y1 + fig1_height)\n",
    "    rect2 = fitz.Rect(x2, y2, x2 + fig2_width, y2 + fig2_height)\n",
    "\n",
    "    # Show figures\n",
    "    new_page.show_pdf_page(rect1, doc1, 0)\n",
    "    new_page.show_pdf_page(rect2, doc2, 0)\n",
    "\n",
    "    # Draw borders\n",
    "    # shape = new_page.new_shape()\n",
    "    # shape.draw_rect(rect1)\n",
    "    # shape.draw_rect(rect2)\n",
    "    # shape.finish(width=1.0, color=(0, 0, 0))  # black border\n",
    "    # shape.commit()\n",
    "    print(rect1.x0, rect1.y0)\n",
    "    # Add labels\n",
    "    font_size = 20\n",
    "    label_padding = 0\n",
    "    label_fontsize = 20\n",
    "    label_box_height = 80\n",
    "    # Label A\n",
    "    label_box1 = fitz.Rect(rect1.x0, rect1.y1 - label_box_height, rect1.x0 + 30, rect1.y1)\n",
    "    new_page.insert_textbox(label_box1, \"A\", fontsize=label_fontsize, fontname=\"helv\", align=0)\n",
    "\n",
    "    # Label B\n",
    "    label_box2 = fitz.Rect(rect2.x0, rect2.y1 - label_box_height, rect2.x0 + 30, rect2.y1)\n",
    "    new_page.insert_textbox(label_box2, \"B\", fontsize=label_fontsize, fontname=\"helv\", align=0)\n",
    "\n",
    "    # Save\n",
    "    merged.save(output_path)\n",
    "    merged.close()\n",
    "    doc1.close()\n",
    "    doc2.close()\n",
    "\n",
    "# Usage\n",
    "path1 = f'{root}/DeepSkip.pdf'\n",
    "path2 = f'{root}/Local.pdf'\n",
    "path3 = f'{root}/Architecture.pdf'\n",
    "\n",
    "merge_vertically(path1, path2, path3)\n"
   ]
  },
  {
   "cell_type": "code",
   "execution_count": null,
   "id": "9f7daccf-0d3c-4393-a6dd-801a7906cec5",
   "metadata": {},
   "outputs": [],
   "source": []
  }
 ],
 "metadata": {
  "kernelspec": {
   "display_name": "Python 3 (ipykernel)",
   "language": "python",
   "name": "python3"
  },
  "language_info": {
   "codemirror_mode": {
    "name": "ipython",
    "version": 3
   },
   "file_extension": ".py",
   "mimetype": "text/x-python",
   "name": "python",
   "nbconvert_exporter": "python",
   "pygments_lexer": "ipython3",
   "version": "3.11.5"
  }
 },
 "nbformat": 4,
 "nbformat_minor": 5
}
