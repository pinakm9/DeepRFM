{
 "cells": [
  {
   "cell_type": "code",
   "execution_count": 1,
   "id": "be0164d7-03fc-4f99-be67-8fb18cdb6e23",
   "metadata": {},
   "outputs": [],
   "source": [
    "import os, sys \n",
    "from pathlib import Path\n",
    "from os.path import dirname, realpath\n",
    "script_dir = Path(dirname(realpath('.')))\n",
    "module_dir = str(script_dir)\n",
    "sys.path.insert(0, module_dir + '/modules')\n",
    "import numpy as np\n",
    "import utility as ut\n",
    "import matplotlib.pyplot as plt\n",
    "import pandas as pd\n",
    "import warnings\n",
    "from scipy import stats\n",
    "import seaborn as sns\n",
    "import oneshot as sm\n",
    "import rfm, skipRFM, deepSkip, localSkip\n",
    "# import parallel_euler as arch1\n",
    "import torch\n",
    "from torch import nn\n",
    "import l63, glob, count_params\n",
    "import config as cf\n",
    "from matplotlib.text import Text\n",
    "from matplotlib import ticker\n",
    "from matplotlib.collections import PolyCollection\n",
    "from scipy.stats import ks_2samp \n",
    "import count_params as cp\n",
    "import wasserstein as ws\n",
    "import json\n",
    "\n",
    "dynamical_system = 'pox'\n",
    "root = f'../data/{dynamical_system}'\n",
    "device = \"cuda\" if torch.cuda.is_available() else \"cpu\"\n",
    "idx = [5, 6, 7, 8, 9]\n",
    "df_list = [pd.read_csv(f\"{root}/cases/chickenpox.{i}.train.csv\" for i in idx)]"
   ]
  },
  {
   "cell_type": "markdown",
   "id": "599b15f4-ca20-4f6f-80b9-e5443c7d54b8",
   "metadata": {},
   "source": [
    "**Read the data**"
   ]
  },
  {
   "cell_type": "code",
   "execution_count": 2,
   "id": "2b517e80-23ca-4f2e-93fa-d9be73d61fee",
   "metadata": {},
   "outputs": [
    {
     "ename": "AttributeError",
     "evalue": "'str' object has no attribute 'concat'",
     "output_type": "error",
     "traceback": [
      "\u001b[0;31m---------------------------------------------------------------------------\u001b[0m",
      "\u001b[0;31mAttributeError\u001b[0m                            Traceback (most recent call last)",
      "Cell \u001b[0;32mIn[2], line 2\u001b[0m\n\u001b[1;32m      1\u001b[0m pox_data \u001b[38;5;241m=\u001b[39m ut\u001b[38;5;241m.\u001b[39mload_csv(pd\u001b[38;5;241m.\u001b[39mread_csv(\u001b[38;5;124mf\u001b[39m\u001b[38;5;124m\"\u001b[39m\u001b[38;5;132;01m{\u001b[39;00mroot\u001b[38;5;132;01m}\u001b[39;00m\u001b[38;5;124m/cases/chickenpox.5.train.csv\u001b[39m\u001b[38;5;124m\"\u001b[39m))\n\u001b[0;32m----> 2\u001b[0m all_data \u001b[38;5;241m=\u001b[39m \u001b[43mut\u001b[49m\u001b[38;5;241;43m.\u001b[39;49m\u001b[43mload_all\u001b[49m\u001b[43m(\u001b[49m\u001b[43mdf_list\u001b[49m\u001b[43m)\u001b[49m\n\u001b[1;32m      3\u001b[0m \u001b[38;5;66;03m# x, y = ut.extract_matrices(pox_data, 400)\u001b[39;00m\n\u001b[1;32m      4\u001b[0m \u001b[38;5;66;03m# x = torch.tensor(x.flatten().reshape(-1, 1), device=device).T\u001b[39;00m\n\u001b[1;32m      5\u001b[0m \u001b[38;5;66;03m# y = torch.tensor(y.flatten().reshape(-1, 1), device=device).T\u001b[39;00m\n\u001b[0;32m   (...)\u001b[0m\n\u001b[1;32m     10\u001b[0m \u001b[38;5;66;03m# test = torch.unsqueeze(y[:, :500], dim=0)\u001b[39;00m\n\u001b[1;32m     11\u001b[0m \u001b[38;5;66;03m# print(model.compute_tau_f(test, error_threshold=1000, dt=1, Lyapunov_time=1.))\u001b[39;00m\n",
      "File \u001b[0;32m~/Documents/GitHub/DeepRFM/modules/utility.py:524\u001b[0m, in \u001b[0;36mload_all\u001b[0;34m(df_list)\u001b[0m\n\u001b[1;32m    522\u001b[0m df \u001b[38;5;241m=\u001b[39m df_list[\u001b[38;5;241m0\u001b[39m]\n\u001b[1;32m    523\u001b[0m \u001b[38;5;28;01mfor\u001b[39;00m df_ \u001b[38;5;129;01min\u001b[39;00m df_list[\u001b[38;5;241m1\u001b[39m:]: \n\u001b[0;32m--> 524\u001b[0m     \u001b[43mdf\u001b[49m\u001b[38;5;241;43m.\u001b[39;49m\u001b[43mconcat\u001b[49m(df_)\n\u001b[1;32m    525\u001b[0m \u001b[38;5;66;03m# Convert datetime column to float (Unix timestamp)\u001b[39;00m\n\u001b[1;32m    526\u001b[0m df[\u001b[38;5;124m'\u001b[39m\u001b[38;5;124mdatetime\u001b[39m\u001b[38;5;124m'\u001b[39m] \u001b[38;5;241m=\u001b[39m pd\u001b[38;5;241m.\u001b[39mto_datetime(df[\u001b[38;5;124m'\u001b[39m\u001b[38;5;124mdatetime\u001b[39m\u001b[38;5;124m'\u001b[39m])\u001b[38;5;241m.\u001b[39mastype(\u001b[38;5;124m'\u001b[39m\u001b[38;5;124mint64\u001b[39m\u001b[38;5;124m'\u001b[39m) \u001b[38;5;241m/\u001b[39m \u001b[38;5;241m1e9\u001b[39m\n",
      "\u001b[0;31mAttributeError\u001b[0m: 'str' object has no attribute 'concat'"
     ]
    }
   ],
   "source": [
    "pox_data = ut.load_csv(pd.read_csv(f\"{root}/cases/chickenpox.5.train.csv\"))\n",
    "all_data = ut.load_all(df_list)\n",
    "# x, y = ut.extract_matrices(pox_data, 400)\n",
    "# x = torch.tensor(x.flatten().reshape(-1, 1), device=device).T\n",
    "# y = torch.tensor(y.flatten().reshape(-1, 1), device=device).T\n",
    "# save_folder = f\"{root}/RFM\"\n",
    "# drf_args = [512, 1, 0.4, 3.5, x, 1e-6, save_folder]\n",
    "# model = rfm.DeepRF(*drf_args)\n",
    "# model.learn_xy(x, y, 22)\n",
    "# test = torch.unsqueeze(y[:, :500], dim=0)\n",
    "# print(model.compute_tau_f(test, error_threshold=1000, dt=1, Lyapunov_time=1.))"
   ]
  },
  {
   "cell_type": "code",
   "execution_count": 36,
   "id": "4939446f-13a7-4d25-bfe4-6e108e21774f",
   "metadata": {},
   "outputs": [
    {
     "data": {
      "text/plain": [
       "20"
      ]
     },
     "execution_count": 36,
     "metadata": {},
     "output_type": "execute_result"
    }
   ],
   "source": [
    "\n",
    "\n",
    "\n",
    "train = pd.read_csv(, index_col=0, parse_dates=['datetime'])\n",
    "len(np.unique(train[\"latitude\"].to_numpy()))"
   ]
  },
  {
   "cell_type": "code",
   "execution_count": 34,
   "id": "1668d447-67aa-4073-9fb3-1c576d93b08a",
   "metadata": {},
   "outputs": [
    {
     "data": {
      "text/plain": [
       "4"
      ]
     },
     "execution_count": 34,
     "metadata": {},
     "output_type": "execute_result"
    }
   ],
   "source": [
    "test = pd.read_csv(f\"{root}/cases/chickenpox.5.test.csv\")\n",
    "len(np.unique(test[\"latitude\"].to_numpy()))"
   ]
  },
  {
   "cell_type": "code",
   "execution_count": 3,
   "id": "0313586d-13fe-402e-aa94-b9fcad70240f",
   "metadata": {},
   "outputs": [
    {
     "data": {
      "text/plain": [
       "array([[1.10471040e+09, 4.65684163e+01, 1.93798457e+01],\n",
       "       [1.10531520e+09, 4.65684163e+01, 1.93798457e+01],\n",
       "       [1.10592000e+09, 4.65684163e+01, 1.93798457e+01],\n",
       "       ...,\n",
       "       [1.41860160e+09, 4.66872372e+01, 1.68950325e+01],\n",
       "       [1.41920640e+09, 4.66872372e+01, 1.68950325e+01],\n",
       "       [1.41981120e+09, 4.66872372e+01, 1.68950325e+01]])"
      ]
     },
     "execution_count": 3,
     "metadata": {},
     "output_type": "execute_result"
    }
   ],
   "source": [
    "pox_data"
   ]
  },
  {
   "cell_type": "code",
   "execution_count": null,
   "id": "5d05140a-daa5-452b-8d86-d00898e50794",
   "metadata": {},
   "outputs": [],
   "source": [
    "from datetime import datetime\n",
    "\n",
    "# Convert datetime column to float (timestamp)\n",
    "df['datetime'] = pd.to_datetime(df['datetime']).astype('float64') / 1e9  # Convert to seconds\n",
    "\n",
    "# Select relevant columns and convert to Nx3 matrix format\n",
    "data_matrix = df[['datetime', 'latitude', 'longitude']].values\n",
    "\n",
    "# Display the transformed data\n",
    "import ace_tools as tools\n",
    "tools.display_dataframe_to_user(name=\"Nx3 Data Matrix\", dataframe=pd.DataFrame(data_matrix, columns=['datetime', 'latitude', 'longitude']))\n"
   ]
  }
 ],
 "metadata": {
  "kernelspec": {
   "display_name": "Python 3 (ipykernel)",
   "language": "python",
   "name": "python3"
  },
  "language_info": {
   "codemirror_mode": {
    "name": "ipython",
    "version": 3
   },
   "file_extension": ".py",
   "mimetype": "text/x-python",
   "name": "python",
   "nbconvert_exporter": "python",
   "pygments_lexer": "ipython3",
   "version": "3.11.5"
  }
 },
 "nbformat": 4,
 "nbformat_minor": 5
}
