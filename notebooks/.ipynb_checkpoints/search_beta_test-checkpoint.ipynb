{
 "cells": [
  {
   "cell_type": "code",
   "execution_count": 7,
   "id": "a41dd3ed-73af-4534-9373-d0577daf97ec",
   "metadata": {},
   "outputs": [
    {
     "name": "stdout",
     "output_type": "stream",
     "text": [
      "Working on L63: generating training and testing data ...\n",
      "Time taken by gen_data is 2.0043 seconds\n"
     ]
    },
    {
     "ename": "TypeError",
     "evalue": "'tuple' object is not callable",
     "output_type": "error",
     "traceback": [
      "\u001b[0;31m---------------------------------------------------------------------------\u001b[0m",
      "\u001b[0;31mTypeError\u001b[0m                                 Traceback (most recent call last)",
      "Cell \u001b[0;32mIn[7], line 38\u001b[0m\n\u001b[1;32m     35\u001b[0m drf_args \u001b[38;5;241m=\u001b[39m [D_r_list[\u001b[38;5;241m0\u001b[39m], B_list[\u001b[38;5;241m0\u001b[39m], L0, L1, train, placeholder_beta, architecture,\\\n\u001b[1;32m     36\u001b[0m             \u001b[38;5;124mf\u001b[39m\u001b[38;5;124m\"\u001b[39m\u001b[38;5;132;01m{\u001b[39;00mdata_folder\u001b[38;5;132;01m}\u001b[39;00m\u001b[38;5;124m/\u001b[39m\u001b[38;5;132;01m{\u001b[39;00mdynamical_system\u001b[38;5;132;01m}\u001b[39;00m\u001b[38;5;124m/\u001b[39m\u001b[38;5;132;01m{\u001b[39;00mconfig_id\u001b[38;5;132;01m}\u001b[39;00m\u001b[38;5;124m/\u001b[39m\u001b[38;5;132;01m{\u001b[39;00marchitecture\u001b[38;5;132;01m}\u001b[39;00m\u001b[38;5;124m/beta\u001b[39m\u001b[38;5;124m\"\u001b[39m, \u001b[38;5;28;01mFalse\u001b[39;00m]\n\u001b[1;32m     37\u001b[0m beta_tester \u001b[38;5;241m=\u001b[39m arch_modules[architecture]\u001b[38;5;241m.\u001b[39mBetaTester(D_r_list, B_list, [train]\u001b[38;5;241m*\u001b[39m\u001b[38;5;28mlen\u001b[39m(D_r_list), test, \u001b[38;5;241m*\u001b[39mdrf_args)\n\u001b[0;32m---> 38\u001b[0m \u001b[43mbeta_tester\u001b[49m\u001b[38;5;241;43m.\u001b[39;49m\u001b[43msearch_beta\u001b[49m\u001b[43m(\u001b[49m\u001b[38;5;241;43m*\u001b[39;49m\u001b[38;5;241;43m*\u001b[39;49m\u001b[43m{\u001b[49m\u001b[38;5;241;43m*\u001b[39;49m\u001b[38;5;241;43m*\u001b[39;49m\u001b[43msetup\u001b[49m\u001b[43m[\u001b[49m\u001b[38;5;124;43m'\u001b[39;49m\u001b[38;5;124;43mbeta\u001b[39;49m\u001b[38;5;124;43m'\u001b[39;49m\u001b[43m]\u001b[49m\u001b[43m,\u001b[49m\u001b[43m \u001b[49m\u001b[38;5;241;43m*\u001b[39;49m\u001b[38;5;241;43m*\u001b[39;49m\u001b[43msetup\u001b[49m\u001b[43m[\u001b[49m\u001b[38;5;124;43m'\u001b[39;49m\u001b[38;5;124;43mprediction_time\u001b[39;49m\u001b[38;5;124;43m'\u001b[39;49m\u001b[43m]\u001b[49m\u001b[43m}\u001b[49m\u001b[43m)\u001b[49m\n",
      "File \u001b[0;32m~/Documents/GitHub/DeepRFM/modules/rfm.py:437\u001b[0m, in \u001b[0;36mBetaTester.search_beta\u001b[0;34m(self, negative_log10_range, resolution, n_repeats, training_points, **tau_f_kwargs)\u001b[0m\n\u001b[1;32m    435\u001b[0m \u001b[38;5;28;01mfor\u001b[39;00m i, (D_r, B) \u001b[38;5;129;01min\u001b[39;00m \u001b[38;5;28menumerate\u001b[39m(configs):\n\u001b[1;32m    436\u001b[0m     drf_args \u001b[38;5;241m=\u001b[39m \u001b[38;5;28mself\u001b[39m\u001b[38;5;241m.\u001b[39mget_drf_args(D_r, B)\n\u001b[0;32m--> 437\u001b[0m     batch \u001b[38;5;241m=\u001b[39m \u001b[43mBatchDeepRF\u001b[49m\u001b[43m(\u001b[49m\u001b[38;5;28;43mself\u001b[39;49m\u001b[38;5;241;43m.\u001b[39;49m\u001b[43mdrf_type\u001b[49m\u001b[43m,\u001b[49m\u001b[43m \u001b[49m\u001b[43mdrf_args\u001b[49m\u001b[43m[\u001b[49m\u001b[38;5;241;43m4\u001b[39;49m\u001b[43m]\u001b[49m\u001b[43m,\u001b[49m\u001b[43m \u001b[49m\u001b[38;5;28;43mself\u001b[39;49m\u001b[38;5;241;43m.\u001b[39;49m\u001b[43mtest\u001b[49m\u001b[43m,\u001b[49m\u001b[43m \u001b[49m\u001b[38;5;241;43m*\u001b[39;49m\u001b[43mdrf_args\u001b[49m\u001b[43m)\u001b[49m\n\u001b[1;32m    438\u001b[0m     elapsed \u001b[38;5;241m=\u001b[39m batch\u001b[38;5;241m.\u001b[39msearch_beta(negative_log10_range, resolution, n_repeats, training_points, \u001b[38;5;241m*\u001b[39m\u001b[38;5;241m*\u001b[39mtau_f_kwargs)\n\u001b[1;32m    439\u001b[0m     \u001b[38;5;28mprint\u001b[39m(\u001b[38;5;124mf\u001b[39m\u001b[38;5;124m\"\u001b[39m\u001b[38;5;124mEstimated time remaining: = \u001b[39m\u001b[38;5;132;01m{\u001b[39;00melapsed\u001b[38;5;241m*\u001b[39m(\u001b[38;5;28mlen\u001b[39m(configs)\u001b[38;5;241m-\u001b[39mi\u001b[38;5;241m-\u001b[39m\u001b[38;5;241m1\u001b[39m)\u001b[38;5;241m/\u001b[39m\u001b[38;5;241m3600\u001b[39m\u001b[38;5;132;01m:\u001b[39;00m\u001b[38;5;124m.2f\u001b[39m\u001b[38;5;132;01m}\u001b[39;00m\u001b[38;5;124mh\u001b[39m\u001b[38;5;124m\"\u001b[39m)\n",
      "File \u001b[0;32m~/Documents/GitHub/DeepRFM/modules/rfm.py:257\u001b[0m, in \u001b[0;36mBatchDeepRF.__init__\u001b[0;34m(self, drf_type, train, test, *drf_args)\u001b[0m\n\u001b[1;32m    255\u001b[0m \u001b[38;5;28mself\u001b[39m\u001b[38;5;241m.\u001b[39mdrf_args \u001b[38;5;241m=\u001b[39m \u001b[38;5;28mlist\u001b[39m(drf_args)\n\u001b[1;32m    256\u001b[0m \u001b[38;5;28mself\u001b[39m\u001b[38;5;241m.\u001b[39mdrf_type \u001b[38;5;241m=\u001b[39m drf_type\n\u001b[0;32m--> 257\u001b[0m \u001b[38;5;28mself\u001b[39m\u001b[38;5;241m.\u001b[39mdrf \u001b[38;5;241m=\u001b[39m \u001b[38;5;28;43mself\u001b[39;49m\u001b[38;5;241;43m.\u001b[39;49m\u001b[43mdrf_type\u001b[49m\u001b[43m(\u001b[49m\u001b[38;5;241;43m*\u001b[39;49m\u001b[38;5;28;43mself\u001b[39;49m\u001b[38;5;241;43m.\u001b[39;49m\u001b[43mdrf_args\u001b[49m\u001b[43m)\u001b[49m\n\u001b[1;32m    258\u001b[0m \u001b[38;5;28mself\u001b[39m\u001b[38;5;241m.\u001b[39mstd \u001b[38;5;241m=\u001b[39m torch\u001b[38;5;241m.\u001b[39mstd(train, axis\u001b[38;5;241m=\u001b[39m\u001b[38;5;241m1\u001b[39m)\n",
      "\u001b[0;31mTypeError\u001b[0m: 'tuple' object is not callable"
     ]
    }
   ],
   "source": [
    "import os, sys \n",
    "from pathlib import Path\n",
    "from os.path import dirname, realpath\n",
    "script_dir = Path(dirname(realpath('.')))\n",
    "module_dir = str(script_dir)\n",
    "sys.path.insert(0, module_dir + '/modules')\n",
    "import numpy as np\n",
    "import utility as ut\n",
    "import matplotlib.pyplot as plt\n",
    "import pandas as pd\n",
    "import rfm, skipRFM, deepSkip, localSkip_2_2, localSkip_8_1, localDeepSkip_2_2, localDeepSkip_8_1\n",
    "import torch\n",
    "from torch import nn\n",
    "import l63, l96, ks\n",
    "import config\n",
    "\n",
    "repo, config_id = '..', 'config_1'\n",
    "device = \"cuda\" if torch.cuda.is_available() else \"cpu\"\n",
    "L0, L1, placeholder_beta = 0.4, 3.5, 7e-8\n",
    "data_folder = f\"{repo}/data\"\n",
    "\n",
    "dynamical_systems = ['L63']#, 'L96', 'KS']\n",
    "ds_modules = {'L63': l63, 'L96': l96, 'KS': ks}\n",
    "arch_modules = {'RFM': rfm, 'SkipRFM': skipRFM, 'DeepSkip': deepSkip, 'LocalSkip_2_2': localSkip_2_2, 'LocalSkip_8_1': localSkip_8_1,\\\n",
    "                'LocalDeepSkip_2_2': localDeepSkip_2_2, 'LocalDeepSkip_8_1': localDeepSkip_8_1}\n",
    "for dynamical_system in dynamical_systems:\n",
    "    print(f\"Working on {dynamical_system}: generating training and testing data ...\")\n",
    "    # generate training and testing data\n",
    "    setup = getattr(config, config_id)(dynamical_system)\n",
    "    train, test = ds_modules[dynamical_system].gen_data(**setup['data_gen'])\n",
    "    train, test = torch.tensor(train, device=device), torch.tensor(test, device=device)\n",
    "    # setup architecture and test beta\n",
    "    for architecture in setup['beta_arch']:\n",
    "        D_r_list, B_list = list(zip(*setup['beta_arch'][architecture]))\n",
    "        drf_args = [D_r_list[0], B_list[0], L0, L1, train, placeholder_beta, architecture,\\\n",
    "                    f\"{data_folder}/{dynamical_system}/{config_id}/{architecture}/beta\", False]\n",
    "        beta_tester = rfm.BetaTester(arch_modules[architecture].DeepRF, D_r_list, B_list, [train]*len(D_r_list), test, *drf_args)\n",
    "        beta_tester.search_beta(**{**setup['beta'], **setup['prediction_time']})"
   ]
  },
  {
   "cell_type": "code",
   "execution_count": 11,
   "id": "0aecafa1-f884-4083-a99e-7845ce6b404d",
   "metadata": {},
   "outputs": [
    {
     "data": {
      "text/plain": [
       "36"
      ]
     },
     "execution_count": 11,
     "metadata": {},
     "output_type": "execute_result"
    }
   ],
   "source": [
    "import itertools\n",
    "a = list(itertools.product(D_r_list, B_list))\n",
    "len(a)"
   ]
  },
  {
   "cell_type": "code",
   "execution_count": 17,
   "id": "56e93eab-ab31-4ac4-99fa-e852e6ba4553",
   "metadata": {},
   "outputs": [
    {
     "name": "stdout",
     "output_type": "stream",
     "text": [
      "0 512 1\n",
      "1 1024 1\n",
      "2 2048 1\n",
      "3 4096 1\n",
      "4 8192 1\n",
      "5 16384 1\n"
     ]
    }
   ],
   "source": [
    "for i, (p, q) in enumerate(zip(D_r_list, B_list)):\n",
    "    print(i, p, q)"
   ]
  },
  {
   "cell_type": "code",
   "execution_count": 5,
   "id": "054e4447-d903-4c7a-bc59-298982197bb4",
   "metadata": {},
   "outputs": [
    {
     "data": {
      "text/plain": [
       "{'negative_log10_range': [6, 11],\n",
       " 'resolution': 25,\n",
       " 'n_repeats': 5,\n",
       " 'training_points': 50000,\n",
       " 'error_threshold': 0.09,\n",
       " 'dt': 0.01,\n",
       " 'Lyapunov_time': 1.0989010989010988}"
      ]
     },
     "execution_count": 5,
     "metadata": {},
     "output_type": "execute_result"
    }
   ],
   "source": [
    "{**setup['beta'], **setup['prediction_time']}"
   ]
  },
  {
   "cell_type": "code",
   "execution_count": 8,
   "id": "395d2438-9d8c-4413-bfdb-6d104610637d",
   "metadata": {},
   "outputs": [
    {
     "data": {
      "text/plain": [
       "(512, 1024, 2048, 4096, 8192, 16384)"
      ]
     },
     "execution_count": 8,
     "metadata": {},
     "output_type": "execute_result"
    }
   ],
   "source": [
    "beta_tester.drf_type"
   ]
  },
  {
   "cell_type": "code",
   "execution_count": null,
   "id": "7c8909bc-ba6d-4891-aa03-19f716953de0",
   "metadata": {},
   "outputs": [],
   "source": []
  }
 ],
 "metadata": {
  "kernelspec": {
   "display_name": "Python 3 (ipykernel)",
   "language": "python",
   "name": "python3"
  },
  "language_info": {
   "codemirror_mode": {
    "name": "ipython",
    "version": 3
   },
   "file_extension": ".py",
   "mimetype": "text/x-python",
   "name": "python",
   "nbconvert_exporter": "python",
   "pygments_lexer": "ipython3",
   "version": "3.11.5"
  }
 },
 "nbformat": 4,
 "nbformat_minor": 5
}
