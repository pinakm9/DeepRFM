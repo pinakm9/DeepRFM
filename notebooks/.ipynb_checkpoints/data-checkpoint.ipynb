{
 "cells": [
  {
   "cell_type": "code",
   "execution_count": 3,
   "id": "1af6ed85-4b68-4b03-acf2-dc4d02a1f43e",
   "metadata": {},
   "outputs": [
    {
     "name": "stdout",
     "output_type": "stream",
     "text": [
      "Time taken: 23.62 seconds9  0  1  2  3]->39\n"
     ]
    }
   ],
   "source": [
    "import numpy as np\n",
    "import pandas as pd\n",
    "import os, sys\n",
    "sys.path.insert(0, \"../../../Github/DeepRFM/modules\")\n",
    "sys.path.insert(0, \"../modules\")\n",
    "import l96\n",
    "import convert as cv\n",
    "\n",
    "ds = \"L96\"\n",
    "root = f\"../data/{ds}\"\n",
    "# l96.gen_data(train_size=int(2e5), test_num=1)\n",
    "\n",
    "cv.npy2csv(f\"{root}/train.npy\", I=4, dt=0.01)"
   ]
  },
  {
   "cell_type": "code",
   "execution_count": 5,
   "id": "ce786a93-cff4-479c-97fd-10baad6fbb6a",
   "metadata": {},
   "outputs": [
    {
     "name": "stdout",
     "output_type": "stream",
     "text": [
      "0.1.3\n"
     ]
    }
   ],
   "source": [
    "import bayesnf as bnf\n",
    "print(bnf.__version__)"
   ]
  },
  {
   "cell_type": "code",
   "execution_count": null,
   "id": "a0eaea96-d56d-413b-b72e-d15eecfada5f",
   "metadata": {},
   "outputs": [],
   "source": []
  }
 ],
 "metadata": {
  "kernelspec": {
   "display_name": "Python 3 (ipykernel)",
   "language": "python",
   "name": "python3"
  },
  "language_info": {
   "codemirror_mode": {
    "name": "ipython",
    "version": 3
   },
   "file_extension": ".py",
   "mimetype": "text/x-python",
   "name": "python",
   "nbconvert_exporter": "python",
   "pygments_lexer": "ipython3",
   "version": "3.10.14"
  }
 },
 "nbformat": 4,
 "nbformat_minor": 5
}
