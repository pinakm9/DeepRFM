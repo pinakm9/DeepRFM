{
 "cells": [
  {
   "cell_type": "code",
   "execution_count": 1,
   "id": "9cbfa657-fd5b-4c5b-b1b3-53bbe629d5ee",
   "metadata": {},
   "outputs": [
    {
     "name": "stdout",
     "output_type": "stream",
     "text": [
      "Time taken = 4.916661024093628s\n",
      "Time taken by compute_tau_f is 2.6458 seconds\n",
      "tensor(0.2773)\n",
      "Time taken by compute_tau_f is 3.4078 seconds\n",
      "tensor(3.6190)\n"
     ]
    }
   ],
   "source": [
    "import os, sys \n",
    "from pathlib import Path\n",
    "from os.path import dirname, realpath\n",
    "script_dir = Path(dirname(realpath('.')))\n",
    "module_dir = str(script_dir)\n",
    "sys.path.insert(0, module_dir + '/modules')\n",
    "import numpy as np\n",
    "import utility as ut\n",
    "import matplotlib.pyplot as plt\n",
    "import pandas as pd\n",
    "import glob, json\n",
    "from scipy import stats\n",
    "import seaborn as sns\n",
    "import oneshot as sm\n",
    "import rfm, skipRFM, localRFM, localSkip, deepSkip, deepRFM, localDeepRFM, localDeepSkip\n",
    "# import parallel_euler as arch1\n",
    "import torch, time\n",
    "from torch import nn\n",
    "import config\n",
    "# warnings.filterwarnings('ignore'\n",
    "\n",
    "dynamical_system = 'KS'\n",
    "L = 200\n",
    "# Uo = torch.tensor(np.load(f'../data/{dynamical_system}/train.npy'))[:,:100000]\n",
    "# Vo = torch.tensor(np.load(f'../data/{dynamical_system}/test.npy'))\n",
    "Uo = torch.tensor(np.load(f'../data/{dynamical_system}-{L}/train.npy'))[:,:100000]\n",
    "Vo = torch.tensor(np.load(f'../data/{dynamical_system}-{L}/test.npy'))\n",
    "# Uo = torch.tensor(ks0.ks32(dt=0.01, tmax=300)[:, 4000:-1000])\n",
    "noise =  0.001*torch.randn(size=Uo.shape)\n",
    "Uon = Uo + noise\n",
    "\n",
    "L0, L1 = 0.4, 3.5\n",
    "D, D_r, B = 3, 2048, 1\n",
    "beta = 1e-5\n",
    "data_folder = '../data'\n",
    "G, I = 8, 1                                                                                              \n",
    "\n",
    "drf_args = [D_r, 1, L0, L1, Uo, beta, 'LocalSkip', f'{data_folder}/temp/localSkipKS/depth-{B}', False, G, I]\n",
    "b = localSkip.BatchDeepRF(Uo, Vo, *drf_args)\n",
    "start = time.time()\n",
    "b.drf.learn(Uo, 42)\n",
    "\n",
    "bn = localSkip.BatchDeepRF(Uo, Vo, *drf_args)\n",
    "bn.drf.learn(Uon, 42)\n",
    "end = time.time()\n",
    "\n",
    "print(f\"Time taken = {end-start}s\")\n",
    "kwargs = {200:{'error_threshold': 0.25, 'dt': 0.25, 'Lyapunov_time': 1/0.094},\\\n",
    "          22:{'error_threshold' : 0.25, 'dt': 0.25, 'Lyapunov_time': 1/0.043},\\\n",
    "          12:{'error_threshold' : 0.25, 'dt': 0.25, 'Lyapunov_time': 1/0.003},\\\n",
    "         '13_5':{'error_threshold' : 0.25, 'dt': 0.25, 'Lyapunov_time': 1/0.059},\\\n",
    "         '200-001':{'error_threshold': 0.25, 'dt': 0.001, 'Lyapunov_time': 1/0.094},}\n",
    "# kwargs = {'error_threshold': 0.25, 'dt': 0.01, 'Lyapunov_time': 1/2.27}\n",
    "print(b.drf.compute_tau_f(Vo[:10], **kwargs[L])[0].mean())\n",
    "print(bn.drf.compute_tau_f(Vo[:10], **kwargs[L])[0].mean())\n",
    "\n",
    "@ut.timer\n",
    "def get_eval(batch):\n",
    "    eval = torch.zeros_like(Uo.T)\n",
    "    j = 0\n",
    "    for i in range(10):\n",
    "        eval[j:j+10000] = batch.drf.forecast(Uo.T[j:j+10000])\n",
    "        j += 10000\n",
    "    return eval"
   ]
  },
  {
   "cell_type": "markdown",
   "id": "4d292ed6-a58b-4b03-bc6a-29aafcc5a1e0",
   "metadata": {},
   "source": [
    "**Look at loss**"
   ]
  },
  {
   "cell_type": "code",
   "execution_count": 6,
   "id": "d0287460-6a8c-4c4c-9b01-a409b0b97488",
   "metadata": {},
   "outputs": [
    {
     "name": "stdout",
     "output_type": "stream",
     "text": [
      "tensor(320.6001) tensor(321.0238)\n",
      "tensor(0.9965, grad_fn=<SumBackward0>) tensor(2.1856, grad_fn=<SumBackward0>) tensor(1.1151, grad_fn=<SumBackward0>)\n"
     ]
    }
   ],
   "source": [
    "X = Uo.T[:-1][..., b.drf.net.idx][:, b.drf.net.Ng//2, :]\n",
    "Y = (Uo.T[1:] - Uo.T[:-1])[..., b.drf.net.idy][:, b.drf.net.Ng//2, :]\n",
    "\n",
    "Xn = Uon.T[:-1][..., bn.drf.net.idx][:, bn.drf.net.Ng//2, :]\n",
    "Yn = (Uon.T[1:] - Uon.T[:-1])[..., bn.drf.net.idy][:, bn.drf.net.Ng//2, :]\n",
    "\n",
    "phi = torch.tanh(b.drf.net.inner[0](X))\n",
    "phin = torch.tanh(bn.drf.net.inner[0](Xn))\n",
    "phin_ = torch.tanh(bn.drf.net.inner[0](X))\n",
    "\n",
    "# eval = torch.tensor(np.load('../data/temp/eval.npy'))\n",
    "# evaln = torch.tensor(np.load('../data/temp/evaln.npy'))\n",
    "\n",
    "w = torch.sqrt((b.drf.net.outer[0].weight.detach()**2).sum())\n",
    "wn = torch.sqrt((bn.drf.net.outer[0].weight.detach()**2).sum())\n",
    "print(w, wn)\n",
    "\n",
    "loss = ((b.drf.net.outer[0](phi) - Y)**2).sum() #+ beta*w**2\n",
    "lossn = ((bn.drf.net.outer[0](phin) - Yn)**2).sum() #+ beta*wn**2\n",
    "lossn_ = ((bn.drf.net.outer[0](phin_) - Y)**2).sum()\n",
    "print(loss, lossn, lossn_)"
   ]
  },
  {
   "cell_type": "markdown",
   "id": "30f45c0c-87f0-47c8-baee-460f3c88e7d4",
   "metadata": {},
   "source": [
    "**Condition number of the invertible matrix**"
   ]
  },
  {
   "cell_type": "code",
   "execution_count": 13,
   "id": "fefd928d-af86-45de-8917-5eb9bcbc786e",
   "metadata": {},
   "outputs": [
    {
     "name": "stdout",
     "output_type": "stream",
     "text": [
      "tensor(0., grad_fn=<LinalgDetBackward0>) tensor(0., grad_fn=<LinalgDetBackward0>)\n",
      "tensor(1.6515e+13, grad_fn=<SqueezeBackward1>) tensor(1.6503e+13, grad_fn=<SqueezeBackward1>)\n"
     ]
    }
   ],
   "source": [
    "b = phi.T@phi\n",
    "a = b + beta*torch.eye(D_r)\n",
    "\n",
    "bn = phin.T@phin \n",
    "an = bn + beta*torch.eye(D_r)\n",
    "\n",
    "print(np.linalg.det(b), torch.linalg.det(an))\n",
    "\n",
    "\n",
    "con = torch.linalg.cond(a)\n",
    "conn = torch.linalg.cond(an)\n",
    "\n",
    "print(con, conn)"
   ]
  },
  {
   "cell_type": "code",
   "execution_count": 3,
   "id": "09a9e64f-dffc-4ada-a1ff-88f21519d097",
   "metadata": {},
   "outputs": [
    {
     "data": {
      "text/plain": [
       "torch.Size([99999, 2048])"
      ]
     },
     "execution_count": 3,
     "metadata": {},
     "output_type": "execute_result"
    }
   ],
   "source": [
    "phi.Tshape"
   ]
  },
  {
   "cell_type": "code",
   "execution_count": 12,
   "id": "535107e6-6a6c-41fd-945b-cde17b3ac940",
   "metadata": {},
   "outputs": [
    {
     "name": "stdout",
     "output_type": "stream",
     "text": [
      "tensor([[ 27340.8962, -27919.0877, -34248.9415,  ...,  46160.6597,\n",
      "         -51051.0562,  51439.1287],\n",
      "        [-27919.0877,  28520.8722,  34985.9700,  ..., -47136.6422,\n",
      "          52133.4077, -52529.9348],\n",
      "        [-34248.9415,  34985.9700,  42919.7551,  ..., -57830.7078,\n",
      "          63952.9298, -64439.4414],\n",
      "        ...,\n",
      "        [ 46160.6597, -47136.6422, -57830.7078,  ...,  78023.1521,\n",
      "         -86201.1679,  86858.0734],\n",
      "        [-51051.0562,  52133.4077,  63952.9298,  ..., -86201.1679,\n",
      "          95326.0264, -96050.8602],\n",
      "        [ 51439.1287, -52529.9348, -64439.4414,  ...,  86858.0734,\n",
      "         -96050.8602,  96781.2461]], grad_fn=<MmBackward0>)\n"
     ]
    }
   ],
   "source": [
    "print(b)"
   ]
  },
  {
   "cell_type": "code",
   "execution_count": null,
   "id": "7d9dad56-a3a0-466d-a59b-1470b49864c3",
   "metadata": {},
   "outputs": [],
   "source": []
  }
 ],
 "metadata": {
  "kernelspec": {
   "display_name": "Python 3 (ipykernel)",
   "language": "python",
   "name": "python3"
  },
  "language_info": {
   "codemirror_mode": {
    "name": "ipython",
    "version": 3
   },
   "file_extension": ".py",
   "mimetype": "text/x-python",
   "name": "python",
   "nbconvert_exporter": "python",
   "pygments_lexer": "ipython3",
   "version": "3.11.5"
  }
 },
 "nbformat": 4,
 "nbformat_minor": 5
}
