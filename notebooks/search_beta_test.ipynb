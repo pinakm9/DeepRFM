{
 "cells": [
  {
   "cell_type": "code",
   "execution_count": 1,
   "id": "a41dd3ed-73af-4534-9373-d0577daf97ec",
   "metadata": {},
   "outputs": [
    {
     "name": "stdout",
     "output_type": "stream",
     "text": [
      "Working on KS: generating training and testing data ...\n"
     ]
    },
    {
     "name": "stderr",
     "output_type": "stream",
     "text": [
      "/Users/pman0581/Documents/GitHub/DeepRFM/modules/ks.py:66: ComplexWarning: Casting complex values to real discards the imaginary part\n",
      "  self.vv[0,:] = self.v0\n",
      "/Users/pman0581/Documents/GitHub/DeepRFM/modules/ks.py:194: ComplexWarning: Casting complex values to real discards the imaginary part\n",
      "  self.vv[self.ioutnum,:] = self.v\n"
     ]
    },
    {
     "name": "stdout",
     "output_type": "stream",
     "text": [
      "Time taken by gen_data is 18.2341 seconds\n",
      "Working on KS-LocalSkip_8_1 ...\n",
      "Estimated time to find optimal beta for (D_r, B) = (512, 1) is 0.15 hours\n",
      "Estimated time to find optimal beta for (D_r, B) = (1024, 1) is 0.21 hours\n",
      "Estimated time to find optimal beta for (D_r, B) = (2048, 1) is 0.33 hours\n",
      "Estimated time to find optimal beta for (D_r, B) = (4096, 1) is 1.09 hours\n",
      "Estimated time to find optimal beta for (D_r, B) = (8192, 1) is 4.24 hours\n",
      "Estimated time to find optimal beta for (D_r, B) = (16384, 1) is 57.45 hours\n",
      "Estimated time to find optimal beta for all (D_r, B) for current architecture is 63.47 hours\n",
      "Experiments for (D_r, B, beta) = (512, 1, 1.00E-11) took 6.14E+00s\n",
      "Experiments for (D_r, B, beta) = (512, 1, 1.36E-11) took 5.86E+00s\n",
      "Experiments for (D_r, B, beta) = (512, 1, 1.72E-11) took 5.86E+00s\n",
      "Experiments for (D_r, B, beta) = (512, 1, 2.08E-11) took 5.89E+00s\n",
      "Experiments for (D_r, B, beta) = (512, 1, 2.44E-11) took 6.00E+00s\n"
     ]
    },
    {
     "ename": "KeyboardInterrupt",
     "evalue": "",
     "output_type": "error",
     "traceback": [
      "\u001b[0;31m---------------------------------------------------------------------------\u001b[0m",
      "\u001b[0;31mKeyboardInterrupt\u001b[0m                         Traceback (most recent call last)",
      "Cell \u001b[0;32mIn[1], line 39\u001b[0m\n\u001b[1;32m     36\u001b[0m drf_args \u001b[38;5;241m=\u001b[39m [D_r_list[\u001b[38;5;241m0\u001b[39m], B_list[\u001b[38;5;241m0\u001b[39m], L0, L1, train, placeholder_beta, architecture,\\\n\u001b[1;32m     37\u001b[0m             \u001b[38;5;124mf\u001b[39m\u001b[38;5;124m\"\u001b[39m\u001b[38;5;132;01m{\u001b[39;00mdata_folder\u001b[38;5;132;01m}\u001b[39;00m\u001b[38;5;124m/\u001b[39m\u001b[38;5;132;01m{\u001b[39;00mdynamical_system\u001b[38;5;132;01m}\u001b[39;00m\u001b[38;5;124m/\u001b[39m\u001b[38;5;132;01m{\u001b[39;00mconfig_id\u001b[38;5;132;01m}\u001b[39;00m\u001b[38;5;124m/\u001b[39m\u001b[38;5;132;01m{\u001b[39;00marchitecture\u001b[38;5;132;01m}\u001b[39;00m\u001b[38;5;124m/beta\u001b[39m\u001b[38;5;124m\"\u001b[39m, \u001b[38;5;28;01mFalse\u001b[39;00m]\n\u001b[1;32m     38\u001b[0m beta_tester \u001b[38;5;241m=\u001b[39m rfm\u001b[38;5;241m.\u001b[39mBetaTester(arch_modules[architecture]\u001b[38;5;241m.\u001b[39mDeepRF, D_r_list, B_list, [train]\u001b[38;5;241m*\u001b[39m\u001b[38;5;28mlen\u001b[39m(D_r_list), test, \u001b[38;5;241m*\u001b[39mdrf_args)\n\u001b[0;32m---> 39\u001b[0m \u001b[43mbeta_tester\u001b[49m\u001b[38;5;241;43m.\u001b[39;49m\u001b[43msearch_beta\u001b[49m\u001b[43m(\u001b[49m\u001b[38;5;241;43m*\u001b[39;49m\u001b[38;5;241;43m*\u001b[39;49m\u001b[43m{\u001b[49m\u001b[38;5;241;43m*\u001b[39;49m\u001b[38;5;241;43m*\u001b[39;49m\u001b[43msetup\u001b[49m\u001b[43m[\u001b[49m\u001b[38;5;124;43m'\u001b[39;49m\u001b[38;5;124;43mbeta\u001b[39;49m\u001b[38;5;124;43m'\u001b[39;49m\u001b[43m]\u001b[49m\u001b[43m,\u001b[49m\u001b[43m \u001b[49m\u001b[38;5;241;43m*\u001b[39;49m\u001b[38;5;241;43m*\u001b[39;49m\u001b[43msetup\u001b[49m\u001b[43m[\u001b[49m\u001b[38;5;124;43m'\u001b[39;49m\u001b[38;5;124;43mprediction_time\u001b[39;49m\u001b[38;5;124;43m'\u001b[39;49m\u001b[43m]\u001b[49m\u001b[43m}\u001b[49m\u001b[43m)\u001b[49m\n",
      "File \u001b[0;32m~/Documents/GitHub/DeepRFM/modules/rfm.py:443\u001b[0m, in \u001b[0;36mBetaTester.search_beta\u001b[0;34m(self, negative_log10_range, resolution, n_repeats, training_points, **tau_f_kwargs)\u001b[0m\n\u001b[1;32m    441\u001b[0m drf_args \u001b[38;5;241m=\u001b[39m \u001b[38;5;28mself\u001b[39m\u001b[38;5;241m.\u001b[39mget_drf_args(D_r, B)\n\u001b[1;32m    442\u001b[0m batch \u001b[38;5;241m=\u001b[39m BatchDeepRF(\u001b[38;5;28mself\u001b[39m\u001b[38;5;241m.\u001b[39mdrf_type, \u001b[38;5;28mself\u001b[39m\u001b[38;5;241m.\u001b[39mtrain_list[i], \u001b[38;5;28mself\u001b[39m\u001b[38;5;241m.\u001b[39mtest, \u001b[38;5;241m*\u001b[39mdrf_args)\n\u001b[0;32m--> 443\u001b[0m \u001b[43mbatch\u001b[49m\u001b[38;5;241;43m.\u001b[39;49m\u001b[43msearch_beta\u001b[49m\u001b[43m(\u001b[49m\u001b[43mnegative_log10_range\u001b[49m\u001b[43m,\u001b[49m\u001b[43m \u001b[49m\u001b[43mresolution\u001b[49m\u001b[43m,\u001b[49m\u001b[43m \u001b[49m\u001b[43mn_repeats\u001b[49m\u001b[43m,\u001b[49m\u001b[43m \u001b[49m\u001b[43mtraining_points\u001b[49m\u001b[43m,\u001b[49m\u001b[43m \u001b[49m\u001b[38;5;241;43m*\u001b[39;49m\u001b[38;5;241;43m*\u001b[39;49m\u001b[43mtau_f_kwargs\u001b[49m\u001b[43m)\u001b[49m\n\u001b[1;32m    444\u001b[0m \u001b[38;5;28mprint\u001b[39m(\u001b[38;5;124mf\u001b[39m\u001b[38;5;124m\"\u001b[39m\u001b[38;5;124mEstimated time remaining for current architecture is \u001b[39m\u001b[38;5;132;01m{\u001b[39;00m\u001b[38;5;28msum\u001b[39m(hours)\u001b[38;5;241m-\u001b[39m(time\u001b[38;5;241m.\u001b[39mtime()\u001b[38;5;241m-\u001b[39mstart)\u001b[38;5;241m/\u001b[39m\u001b[38;5;241m3600\u001b[39m\u001b[38;5;132;01m:\u001b[39;00m\u001b[38;5;124m.2f\u001b[39m\u001b[38;5;132;01m}\u001b[39;00m\u001b[38;5;124m hours\u001b[39m\u001b[38;5;124m\"\u001b[39m)\n",
      "File \u001b[0;32m~/Documents/GitHub/DeepRFM/modules/rfm.py:398\u001b[0m, in \u001b[0;36mBatchDeepRF.search_beta\u001b[0;34m(self, negative_log10_range, resolution, n_repeats, training_points, **tau_f_kwargs)\u001b[0m\n\u001b[1;32m    396\u001b[0m start \u001b[38;5;241m=\u001b[39m time\u001b[38;5;241m.\u001b[39mtime()\n\u001b[1;32m    397\u001b[0m \u001b[38;5;28;01mfor\u001b[39;00m j \u001b[38;5;129;01min\u001b[39;00m \u001b[38;5;28mrange\u001b[39m(k, k\u001b[38;5;241m+\u001b[39mn_repeats):\n\u001b[0;32m--> 398\u001b[0m     r[:, j\u001b[38;5;241m-\u001b[39mk] \u001b[38;5;241m=\u001b[39m \u001b[38;5;28;43mself\u001b[39;49m\u001b[38;5;241;43m.\u001b[39;49m\u001b[43mtry_beta\u001b[49m\u001b[43m(\u001b[49m\u001b[43mbeta\u001b[49m\u001b[43m,\u001b[49m\u001b[43m \u001b[49m\u001b[43mmodel_seeds\u001b[49m\u001b[43m[\u001b[49m\u001b[43mj\u001b[49m\u001b[43m]\u001b[49m\u001b[43m,\u001b[49m\u001b[43m \u001b[49m\u001b[43mtrain_indices\u001b[49m\u001b[43m[\u001b[49m\u001b[43mj\u001b[49m\u001b[43m]\u001b[49m\u001b[43m,\u001b[49m\u001b[43m \u001b[49m\u001b[43mtest_indices\u001b[49m\u001b[43m[\u001b[49m\u001b[43mj\u001b[49m\u001b[43m]\u001b[49m\u001b[43m,\u001b[49m\u001b[43m \u001b[49m\u001b[38;5;241;43m*\u001b[39;49m\u001b[38;5;241;43m*\u001b[39;49m\u001b[43mtau_f_kwargs\u001b[49m\u001b[43m)\u001b[49m\n\u001b[1;32m    399\u001b[0m     results \u001b[38;5;241m=\u001b[39m [[beta, \u001b[38;5;28mfloat\u001b[39m(r[\u001b[38;5;241m0\u001b[39m]\u001b[38;5;241m.\u001b[39mmean()), \u001b[38;5;28mfloat\u001b[39m(r[\u001b[38;5;241m1\u001b[39m]\u001b[38;5;241m.\u001b[39mmean()), \u001b[38;5;28mfloat\u001b[39m(r[\u001b[38;5;241m2\u001b[39m]\u001b[38;5;241m.\u001b[39mmean()), \u001b[38;5;28mfloat\u001b[39m(r[\u001b[38;5;241m3\u001b[39m]\u001b[38;5;241m.\u001b[39mmean()),\\\n\u001b[1;32m    400\u001b[0m                 \u001b[38;5;28mfloat\u001b[39m(r[\u001b[38;5;241m0\u001b[39m]\u001b[38;5;241m.\u001b[39mstd()), \u001b[38;5;28mfloat\u001b[39m(r[\u001b[38;5;241m1\u001b[39m]\u001b[38;5;241m.\u001b[39mstd()), \u001b[38;5;28mfloat\u001b[39m(r[\u001b[38;5;241m2\u001b[39m]\u001b[38;5;241m.\u001b[39mstd()), \u001b[38;5;28mfloat\u001b[39m(r[\u001b[38;5;241m3\u001b[39m]\u001b[38;5;241m.\u001b[39mstd())]]\n\u001b[1;32m    401\u001b[0m pd\u001b[38;5;241m.\u001b[39mDataFrame(results, columns\u001b[38;5;241m=\u001b[39mcolumns_agg, dtype\u001b[38;5;241m=\u001b[39m\u001b[38;5;28mfloat\u001b[39m)\\\n\u001b[1;32m    402\u001b[0m             \u001b[38;5;241m.\u001b[39mto_csv(file_path_agg, mode\u001b[38;5;241m=\u001b[39m\u001b[38;5;124m'\u001b[39m\u001b[38;5;124ma\u001b[39m\u001b[38;5;124m'\u001b[39m, index\u001b[38;5;241m=\u001b[39m\u001b[38;5;28;01mFalse\u001b[39;00m, header\u001b[38;5;241m=\u001b[39m\u001b[38;5;129;01mnot\u001b[39;00m os\u001b[38;5;241m.\u001b[39mpath\u001b[38;5;241m.\u001b[39mexists(file_path_agg))\n",
      "File \u001b[0;32m~/Documents/GitHub/DeepRFM/modules/rfm.py:362\u001b[0m, in \u001b[0;36mBatchDeepRF.try_beta\u001b[0;34m(self, beta, model_seed, train_idx, test_idx, **tau_f_kwargs)\u001b[0m\n\u001b[1;32m    360\u001b[0m \u001b[38;5;28;01mdef\u001b[39;00m \u001b[38;5;21mtry_beta\u001b[39m(\u001b[38;5;28mself\u001b[39m, beta, model_seed, train_idx, test_idx, \u001b[38;5;241m*\u001b[39m\u001b[38;5;241m*\u001b[39mtau_f_kwargs):\n\u001b[1;32m    361\u001b[0m     \u001b[38;5;28mself\u001b[39m\u001b[38;5;241m.\u001b[39mdrf_args[\u001b[38;5;241m5\u001b[39m] \u001b[38;5;241m=\u001b[39m beta\n\u001b[0;32m--> 362\u001b[0m     drf \u001b[38;5;241m=\u001b[39m \u001b[38;5;28;43mself\u001b[39;49m\u001b[38;5;241;43m.\u001b[39;49m\u001b[43mdrf_type\u001b[49m\u001b[43m(\u001b[49m\u001b[38;5;241;43m*\u001b[39;49m\u001b[38;5;28;43mself\u001b[39;49m\u001b[38;5;241;43m.\u001b[39;49m\u001b[43mdrf_args\u001b[49m\u001b[43m)\u001b[49m\n\u001b[1;32m    363\u001b[0m     drf\u001b[38;5;241m.\u001b[39mlearn(\u001b[38;5;28mself\u001b[39m\u001b[38;5;241m.\u001b[39mtrain[:, train_idx:train_idx\u001b[38;5;241m+\u001b[39m\u001b[38;5;28mself\u001b[39m\u001b[38;5;241m.\u001b[39mtraining_points], model_seed)\n\u001b[1;32m    364\u001b[0m     \u001b[38;5;28;01mreturn\u001b[39;00m \u001b[38;5;28mself\u001b[39m\u001b[38;5;241m.\u001b[39mget_tau_f(drf, \u001b[38;5;28mself\u001b[39m\u001b[38;5;241m.\u001b[39mtest[test_idx], \u001b[38;5;241m*\u001b[39m\u001b[38;5;241m*\u001b[39mtau_f_kwargs)\n",
      "File \u001b[0;32m~/Documents/GitHub/DeepRFM/modules/localSkip_8_1.py:48\u001b[0m, in \u001b[0;36mDeepRF.__init__\u001b[0;34m(self, D_r, B, L0, L1, Uo, beta, name, save_folder, normalize)\u001b[0m\n\u001b[1;32m     37\u001b[0m \u001b[38;5;28;01mdef\u001b[39;00m \u001b[38;5;21m__init__\u001b[39m(\u001b[38;5;28mself\u001b[39m, D_r, B, L0, L1, Uo, beta, name\u001b[38;5;241m=\u001b[39m\u001b[38;5;124m'\u001b[39m\u001b[38;5;124mnn\u001b[39m\u001b[38;5;124m'\u001b[39m, save_folder\u001b[38;5;241m=\u001b[39m\u001b[38;5;124m'\u001b[39m\u001b[38;5;124m.\u001b[39m\u001b[38;5;124m'\u001b[39m, normalize\u001b[38;5;241m=\u001b[39m\u001b[38;5;28;01mFalse\u001b[39;00m):\n\u001b[1;32m     38\u001b[0m \u001b[38;5;250m    \u001b[39m\u001b[38;5;124;03m\"\"\"\u001b[39;00m\n\u001b[1;32m     39\u001b[0m \u001b[38;5;124;03m    Args:\u001b[39;00m\n\u001b[1;32m     40\u001b[0m \u001b[38;5;124;03m        D_r: dimension of the feature \u001b[39;00m\n\u001b[0;32m   (...)\u001b[0m\n\u001b[1;32m     46\u001b[0m \u001b[38;5;124;03m        beta: regularization parameter\u001b[39;00m\n\u001b[1;32m     47\u001b[0m \u001b[38;5;124;03m    \"\"\"\u001b[39;00m        \n\u001b[0;32m---> 48\u001b[0m     \u001b[38;5;28;43msuper\u001b[39;49m\u001b[43m(\u001b[49m\u001b[43m)\u001b[49m\u001b[38;5;241;43m.\u001b[39;49m\u001b[38;5;21;43m__init__\u001b[39;49m\u001b[43m(\u001b[49m\u001b[43mD_r\u001b[49m\u001b[43m,\u001b[49m\u001b[43m \u001b[49m\u001b[43mB\u001b[49m\u001b[43m,\u001b[49m\u001b[43m \u001b[49m\u001b[43mL0\u001b[49m\u001b[43m,\u001b[49m\u001b[43m \u001b[49m\u001b[43mL1\u001b[49m\u001b[43m,\u001b[49m\u001b[43m \u001b[49m\u001b[43mUo\u001b[49m\u001b[43m,\u001b[49m\u001b[43m \u001b[49m\u001b[43mbeta\u001b[49m\u001b[43m,\u001b[49m\u001b[43m \u001b[49m\u001b[43mname\u001b[49m\u001b[43m,\u001b[49m\u001b[43m \u001b[49m\u001b[43msave_folder\u001b[49m\u001b[43m,\u001b[49m\u001b[43m \u001b[49m\u001b[43mnormalize\u001b[49m\u001b[43m)\u001b[49m\n\u001b[1;32m     49\u001b[0m     \u001b[38;5;28mself\u001b[39m\u001b[38;5;241m.\u001b[39mnet \u001b[38;5;241m=\u001b[39m LocalSkip_8_1(\u001b[38;5;28mself\u001b[39m\u001b[38;5;241m.\u001b[39msampler\u001b[38;5;241m.\u001b[39mdim, D_r, B)\n\u001b[1;32m     50\u001b[0m     \u001b[38;5;28mself\u001b[39m\u001b[38;5;241m.\u001b[39mnet\u001b[38;5;241m.\u001b[39mto(\u001b[38;5;28mself\u001b[39m\u001b[38;5;241m.\u001b[39mdevice)\n",
      "File \u001b[0;32m~/Documents/GitHub/DeepRFM/modules/rfm.py:62\u001b[0m, in \u001b[0;36mDeepRF.__init__\u001b[0;34m(self, D_r, B, L0, L1, Uo, beta, name, save_folder, normalize)\u001b[0m\n\u001b[1;32m     60\u001b[0m Uo\u001b[38;5;241m.\u001b[39mto(\u001b[38;5;28mself\u001b[39m\u001b[38;5;241m.\u001b[39mdevice)\n\u001b[1;32m     61\u001b[0m \u001b[38;5;28mself\u001b[39m\u001b[38;5;241m.\u001b[39mnormalize \u001b[38;5;241m=\u001b[39m normalize\n\u001b[0;32m---> 62\u001b[0m \u001b[38;5;28mself\u001b[39m\u001b[38;5;241m.\u001b[39msampler \u001b[38;5;241m=\u001b[39m \u001b[43msm\u001b[49m\u001b[38;5;241;43m.\u001b[39;49m\u001b[43mGoodRowSampler\u001b[49m\u001b[43m(\u001b[49m\u001b[43mL0\u001b[49m\u001b[43m,\u001b[49m\u001b[43m \u001b[49m\u001b[43mL1\u001b[49m\u001b[43m,\u001b[49m\u001b[43m \u001b[49m\u001b[43mUo\u001b[49m\u001b[43m)\u001b[49m\n\u001b[1;32m     64\u001b[0m \u001b[38;5;66;03m# Uo_ = self.set_stats(Uo)\u001b[39;00m\n\u001b[1;32m     65\u001b[0m \u001b[38;5;28mself\u001b[39m\u001b[38;5;241m.\u001b[39mX \u001b[38;5;241m=\u001b[39m Uo[:, :\u001b[38;5;241m-\u001b[39m\u001b[38;5;241m1\u001b[39m]\u001b[38;5;241m.\u001b[39mT\n",
      "File \u001b[0;32m~/Documents/GitHub/DeepRFM/modules/oneshot.py:23\u001b[0m, in \u001b[0;36mGoodRowSampler.__init__\u001b[0;34m(self, L0, L1, Uo)\u001b[0m\n\u001b[1;32m     21\u001b[0m \u001b[38;5;28mself\u001b[39m\u001b[38;5;241m.\u001b[39mdim \u001b[38;5;241m=\u001b[39m Uo\u001b[38;5;241m.\u001b[39mT\u001b[38;5;241m.\u001b[39mshape[\u001b[38;5;241m-\u001b[39m\u001b[38;5;241m1\u001b[39m]\n\u001b[1;32m     22\u001b[0m \u001b[38;5;28mself\u001b[39m\u001b[38;5;241m.\u001b[39mdevice \u001b[38;5;241m=\u001b[39m Uo\u001b[38;5;241m.\u001b[39mdevice\n\u001b[0;32m---> 23\u001b[0m \u001b[38;5;28mself\u001b[39m\u001b[38;5;241m.\u001b[39mlims \u001b[38;5;241m=\u001b[39m torch\u001b[38;5;241m.\u001b[39mstack((\u001b[43mtorch\u001b[49m\u001b[38;5;241;43m.\u001b[39;49m\u001b[43mmin\u001b[49m\u001b[43m(\u001b[49m\u001b[43mUo\u001b[49m\u001b[43m,\u001b[49m\u001b[43m \u001b[49m\u001b[43mdim\u001b[49m\u001b[38;5;241;43m=\u001b[39;49m\u001b[38;5;241;43m1\u001b[39;49m\u001b[43m)\u001b[49m[\u001b[38;5;241m0\u001b[39m], torch\u001b[38;5;241m.\u001b[39mmax(Uo, dim\u001b[38;5;241m=\u001b[39m\u001b[38;5;241m1\u001b[39m)[\u001b[38;5;241m0\u001b[39m]), dim\u001b[38;5;241m=\u001b[39m\u001b[38;5;241m1\u001b[39m)\n",
      "\u001b[0;31mKeyboardInterrupt\u001b[0m: "
     ]
    }
   ],
   "source": [
    "import os, sys \n",
    "from pathlib import Path\n",
    "from os.path import dirname, realpath\n",
    "script_dir = Path(dirname(realpath('.')))\n",
    "module_dir = str(script_dir)\n",
    "sys.path.insert(0, module_dir + '/modules')\n",
    "import numpy as np\n",
    "import utility as ut\n",
    "import matplotlib.pyplot as plt\n",
    "import pandas as pd\n",
    "import rfm, skipRFM, deepSkip, localSkip_2_2, localSkip_8_1, localDeepSkip_2_2, localDeepSkip_8_1\n",
    "import torch\n",
    "from torch import nn\n",
    "import l63, l96, ks\n",
    "import config\n",
    "\n",
    "repo, config_id = '..', 'config_1'\n",
    "device = \"cuda\" if torch.cuda.is_available() else \"cpu\"\n",
    "L0, L1, placeholder_beta = 0.4, 3.5, 7e-8\n",
    "data_folder = f\"{repo}/data\"\n",
    "\n",
    "dynamical_systems = ['KS']#, 'L96', 'KS']\n",
    "ds_modules = {'L63': l63, 'L96': l96, 'KS': ks}\n",
    "arch_modules = {'RFM': rfm, 'SkipRFM': skipRFM, 'DeepSkip': deepSkip, 'LocalSkip_2_2': localSkip_2_2, 'LocalSkip_8_1': localSkip_8_1,\\\n",
    "                'LocalDeepSkip_2_2': localDeepSkip_2_2, 'LocalDeepSkip_8_1': localDeepSkip_8_1}\n",
    "for dynamical_system in dynamical_systems:\n",
    "    print(f\"Working on {dynamical_system}: generating training and testing data ...\")\n",
    "    # generate training and testing data\n",
    "    setup = getattr(config, config_id)(dynamical_system)\n",
    "    train, test = ds_modules[dynamical_system].gen_data(**setup['data_gen'])\n",
    "    train, test = torch.tensor(train, device=device), torch.tensor(test, device=device)\n",
    "    # set up architecture and test beta\n",
    "    for architecture in setup['beta_arch']:\n",
    "        print(f\"Working on {dynamical_system}-{architecture} ...\")\n",
    "        D_r_list, B_list = list(zip(*setup['beta_arch'][architecture]))\n",
    "        drf_args = [D_r_list[0], B_list[0], L0, L1, train, placeholder_beta, architecture,\\\n",
    "                    f\"{data_folder}/{dynamical_system}/{config_id}/{architecture}/beta\", False]\n",
    "        beta_tester = rfm.BetaTester(arch_modules[architecture].DeepRF, D_r_list, B_list, [train]*len(D_r_list), test, *drf_args)\n",
    "        beta_tester.search_beta(**{**setup['beta'], **setup['prediction_time']})"
   ]
  },
  {
   "cell_type": "code",
   "execution_count": null,
   "id": "84bad491-f4cf-4f2b-9563-51b2ee39fc8d",
   "metadata": {},
   "outputs": [],
   "source": []
  }
 ],
 "metadata": {
  "kernelspec": {
   "display_name": "Python 3 (ipykernel)",
   "language": "python",
   "name": "python3"
  },
  "language_info": {
   "codemirror_mode": {
    "name": "ipython",
    "version": 3
   },
   "file_extension": ".py",
   "mimetype": "text/x-python",
   "name": "python",
   "nbconvert_exporter": "python",
   "pygments_lexer": "ipython3",
   "version": "3.11.5"
  }
 },
 "nbformat": 4,
 "nbformat_minor": 5
}
