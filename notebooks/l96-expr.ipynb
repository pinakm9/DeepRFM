{
 "cells": [
  {
   "cell_type": "code",
   "execution_count": 1,
   "id": "1752172a-7141-46e7-b0f0-ec6df34ee852",
   "metadata": {},
   "outputs": [],
   "source": [
    "import os, sys \n",
    "from pathlib import Path\n",
    "from os.path import dirname, realpath\n",
    "script_dir = Path(dirname(realpath('.')))\n",
    "module_dir = str(script_dir)\n",
    "sys.path.insert(0, module_dir + '/modules')\n",
    "import numpy as np\n",
    "import utility as ut\n",
    "import matplotlib.pyplot as plt\n",
    "import pandas as pd\n",
    "import warnings\n",
    "from scipy import stats\n",
    "import seaborn as sns\n",
    "import oneshot as sm\n",
    "import rfm, skipRFM, deepSkip, localSkip\n",
    "# import parallel_euler as arch1\n",
    "import torch\n",
    "from torch import nn\n",
    "import l63, glob, count_params\n",
    "import config as cf\n",
    "from matplotlib.text import Text\n",
    "from matplotlib import ticker\n",
    "from matplotlib.collections import PolyCollection\n",
    "from scipy.stats import ks_2samp \n",
    "import count_params as cp\n",
    "import wasserstein as ws\n",
    "import json\n",
    "\n",
    "\n",
    "dynamical_system = 'L96'\n",
    "root = f'../data/{dynamical_system}'"
   ]
  },
  {
   "cell_type": "code",
   "execution_count": null,
   "id": "a7218b7e-fb9e-4517-a17f-6380574f4b1e",
   "metadata": {},
   "outputs": [],
   "source": [
    "D_r, B = 16384, 1\n",
    "beta_data = pd.read_csv(f\"{root}/config_1_s/LocalDeepSkip_1_4/beta/beta_s.csv\")\n",
    "beta = float(beta_data[(beta_data['D_r']==D_r) & (beta_data['B']==1)]['beta'].iloc[0])\n",
    "train_kwargs = {\"save_folder\": f\"{root}/config_bnf\", \"epochs\": 15000,\\\n",
    "                \"I\": 4, \"ensemble_size\": 32, \"model_seed\": model_seeds[expr_index]}\n",
    "data_gen_kwargs = {\"dt\": 1e-2, \"train_size\": int(2e5), \"train_seed\": train_seeds[expr_index], \"test_num\": 1}\n",
    "feature_cols = [f\"Space_{i}\" for i in range(2*train_kwargs[\"I\"]+1)]\n",
    "drf_kwargs   = {\"D_r\": D_r, \"B\": B, \"G\": 1, \"I\": 4, \"L0\": 0.4, \"L1\": 3.5, \"beta\": beta}\n",
    "eval_kwargs = {\"vpt_steps\": 325, \"n_RMSE\": 10000, \"w2_steps\": int(1e1), \"vpt_epsilon\": 0.5,\\\n",
    "                \"Lyapunov_time\": 1/2.27, \"n_sample_w2\": 20000}"
   ]
  },
  {
   "cell_type": "code",
   "execution_count": 14,
   "id": "f44d435d-6545-489a-a673-3ba23e033fd6",
   "metadata": {},
   "outputs": [
    {
     "name": "stdout",
     "output_type": "stream",
     "text": [
      "VPT: 0.9216200000000002\n",
      "RMSE: 1.6934128761291505\n",
      "MAE: 7.800250625610351\n",
      "W2: 37.80690383911133\n",
      "training_time: 1452.5701784610749\n",
      "model_size: 2666960.0\n",
      "experiment_seed: 48.4\n",
      "model_seed: 42.4\n",
      "6.426016502038001\n",
      "MAE: 1.6697739517622299\n"
     ]
    }
   ],
   "source": [
    "# collect bnf data \n",
    "n_exprs = 5\n",
    "folders = [os.path.abspath(f\"../../bnf/data/L96/autonomous/D_r-256_B-3_id-{i}\") for i in range(n_exprs)]\n",
    "results = []\n",
    "for folder in folders:\n",
    "    with open(f\"{folder}/results.json\", \"r\") as file:\n",
    "        results.append(json.load(file))\n",
    "avg_res = {}\n",
    "for k, v in results[0].items():\n",
    "    avg_res[k] = 0.\n",
    "    for i in range(n_exprs):\n",
    "        avg_res[k] += results[i][k]\n",
    "    avg_res[k] /= n_exprs\n",
    "for k, v in avg_res.items():\n",
    "    print(f\"{k}: {v}\")\n",
    "print(np.log10(avg_res[\"model_size\"])) \n",
    "# recalculate MAE in L2 norm\n",
    "mae = 0\n",
    "for folder in folders:\n",
    "    truth = np.load(f\"{folder}/rmse_true_trajectory.npy\")\n",
    "    prediction = np.load(f\"{folder}/rmse_trajectory.npy\")\n",
    "    mae += np.linalg.norm(truth-prediction, axis=0, ord=2).mean() \n",
    "mae /= len(folders)\n",
    "print(f\"MAE: {mae}\")"
   ]
  },
  {
   "cell_type": "code",
   "execution_count": 12,
   "id": "661ea8b6-7324-4706-ab76-b9a741812b03",
   "metadata": {},
   "outputs": [
    {
     "name": "stdout",
     "output_type": "stream",
     "text": [
      "VPT: 4.5354600000000005\n",
      "RMSE: 1.6873475326485097\n",
      "MAE: 7.745989144184132\n",
      "W2: 25.47168960571289\n",
      "training_time: 5.139635801315308\n",
      "model_size: 393216.0\n",
      "experiment_seed: 24.6\n",
      "model_seed: 52.4\n",
      "5.594631181007343\n",
      "MAE: 1.6654620556277884\n"
     ]
    }
   ],
   "source": [
    "# collect drf data \n",
    "n_exprs = 5\n",
    "folders = [os.path.abspath(f\"../data/L96/config_bnf/expr_{i}\") for i in range(n_exprs)]\n",
    "results = []\n",
    "for folder in folders:\n",
    "    with open(f\"{folder}/results.json\", \"r\") as file:\n",
    "        results.append(json.load(file))\n",
    "avg_res = {}\n",
    "for k, v in results[0].items():\n",
    "    avg_res[k] = 0.\n",
    "    for i in range(n_exprs):\n",
    "        avg_res[k] += results[i][k]\n",
    "    avg_res[k] /= n_exprs\n",
    "for k, v in avg_res.items():\n",
    "    print(f\"{k}: {v}\")\n",
    "print(np.log10(avg_res[\"model_size\"]))\n",
    "\n",
    "# recalculate MAE in L2 norm\n",
    "mae = 0\n",
    "for folder in folders:\n",
    "    truth = np.load(f\"{folder}/rmse_true_trajectory.npy\")\n",
    "    prediction = np.load(f\"{folder}/rmse_trajectory.npy\")\n",
    "    mae += np.linalg.norm(truth-prediction, axis=0, ord=2).mean() \n",
    "mae /= len(folders)\n",
    "print(f\"MAE: {mae}\")"
   ]
  },
  {
   "cell_type": "code",
   "execution_count": 13,
   "id": "ee03e6b4-f522-4eb9-a239-23b1ee1bf993",
   "metadata": {},
   "outputs": [
    {
     "name": "stdout",
     "output_type": "stream",
     "text": [
      "VPT: 0.41768\n",
      "RMSE: 1.7177155494689942\n",
      "MAE: 7.973823738098145\n",
      "W2: 39.18142852783203\n",
      "training_time: 1590.834502029419\n",
      "model_size: 2748912.0\n",
      "experiment_seed: 50.0\n",
      "model_seed: 57.2\n",
      "6.439160837142075\n",
      "MAE: 1.693235468846808\n"
     ]
    }
   ],
   "source": [
    "# collect bnf-time data \n",
    "n_exprs = 5\n",
    "folders = [os.path.abspath(f\"../../bnf/data/L96/non-autonomous/D_r-256_B-3_id-{i}\") for i in range(n_exprs)]\n",
    "results = []\n",
    "for folder in folders:\n",
    "    try:\n",
    "        with open(f\"{folder}/results.json\", \"r\") as file:\n",
    "            results.append(json.load(file))\n",
    "    except:\n",
    "        pass\n",
    "avg_res = {}\n",
    "for k, v in results[0].items():\n",
    "    avg_res[k] = 0.\n",
    "    for i in range(n_exprs):\n",
    "        try:\n",
    "            avg_res[k] += results[i][k]\n",
    "        except:\n",
    "            pass\n",
    "    avg_res[k] /= n_exprs\n",
    "for k, v in avg_res.items():\n",
    "    print(f\"{k}: {v}\")\n",
    "print(np.log10(avg_res[\"model_size\"]))\n",
    "# recalculate MAE in L2 norm\n",
    "mae = 0\n",
    "for folder in folders:\n",
    "    truth = np.load(f\"{folder}/rmse_true_trajectory.npy\")\n",
    "    prediction = np.load(f\"{folder}/rmse_trajectory.npy\")\n",
    "    mae += np.linalg.norm(truth-prediction, axis=0, ord=2).mean() \n",
    "mae /= len(folders)\n",
    "print(f\"MAE: {mae}\")"
   ]
  },
  {
   "cell_type": "code",
   "execution_count": 28,
   "id": "b1aa68aa-ac40-4306-aec6-44eb5b87b4d7",
   "metadata": {},
   "outputs": [
    {
     "data": {
      "text/plain": [
       "6291456"
      ]
     },
     "execution_count": 28,
     "metadata": {},
     "output_type": "execute_result"
    }
   ],
   "source": [
    "393216*16"
   ]
  },
  {
   "cell_type": "code",
   "execution_count": 27,
   "id": "08ca7025-17f6-4511-ad94-22dcb8b5230a",
   "metadata": {},
   "outputs": [
    {
     "data": {
      "text/plain": [
       "166685.0"
      ]
     },
     "execution_count": 27,
     "metadata": {},
     "output_type": "execute_result"
    }
   ],
   "source": [
    "2666960/16"
   ]
  },
  {
   "cell_type": "code",
   "execution_count": null,
   "id": "10dc396b-1913-4cfa-bf98-731b363d30b2",
   "metadata": {},
   "outputs": [],
   "source": []
  }
 ],
 "metadata": {
  "kernelspec": {
   "display_name": "Python 3 (ipykernel)",
   "language": "python",
   "name": "python3"
  },
  "language_info": {
   "codemirror_mode": {
    "name": "ipython",
    "version": 3
   },
   "file_extension": ".py",
   "mimetype": "text/x-python",
   "name": "python",
   "nbconvert_exporter": "python",
   "pygments_lexer": "ipython3",
   "version": "3.11.5"
  }
 },
 "nbformat": 4,
 "nbformat_minor": 5
}
