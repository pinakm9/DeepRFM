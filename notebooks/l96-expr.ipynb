{
 "cells": [
  {
   "cell_type": "code",
   "execution_count": 1,
   "id": "1752172a-7141-46e7-b0f0-ec6df34ee852",
   "metadata": {},
   "outputs": [],
   "source": [
    "import os, sys \n",
    "from pathlib import Path\n",
    "from os.path import dirname, realpath\n",
    "script_dir = Path(dirname(realpath('.')))\n",
    "module_dir = str(script_dir)\n",
    "sys.path.insert(0, module_dir + '/modules')\n",
    "import numpy as np\n",
    "import utility as ut\n",
    "import matplotlib.pyplot as plt\n",
    "import pandas as pd\n",
    "import warnings\n",
    "from scipy import stats\n",
    "import seaborn as sns\n",
    "import oneshot as sm\n",
    "import rfm, skipRFM, deepSkip, localSkip\n",
    "# import parallel_euler as arch1\n",
    "import torch\n",
    "from torch import nn\n",
    "import l63, glob, count_params\n",
    "import config as cf\n",
    "from matplotlib.text import Text\n",
    "from matplotlib import ticker\n",
    "from matplotlib.collections import PolyCollection\n",
    "from scipy.stats import ks_2samp \n",
    "import count_params as cp\n",
    "import wasserstein as ws\n",
    "import json\n",
    "\n",
    "\n",
    "dynamical_system = 'L96'\n",
    "root = f'../data/{dynamical_system}'"
   ]
  },
  {
   "cell_type": "code",
   "execution_count": null,
   "id": "a7218b7e-fb9e-4517-a17f-6380574f4b1e",
   "metadata": {},
   "outputs": [],
   "source": [
    "D_r, B = 16384, 1\n",
    "beta_data = pd.read_csv(f\"{root}/config_1_s/LocalDeepSkip_1_4/beta/beta_s.csv\")\n",
    "beta = float(beta_data[(beta_data['D_r']==D_r) & (beta_data['B']==1)]['beta'].iloc[0])\n",
    "train_kwargs = {\"save_folder\": f\"{root}/config_bnf\", \"epochs\": 15000,\\\n",
    "                \"I\": 4, \"ensemble_size\": 32, \"model_seed\": model_seeds[expr_index]}\n",
    "data_gen_kwargs = {\"dt\": 1e-2, \"train_size\": int(2e5), \"train_seed\": train_seeds[expr_index], \"test_num\": 1}\n",
    "feature_cols = [f\"Space_{i}\" for i in range(2*train_kwargs[\"I\"]+1)]\n",
    "drf_kwargs   = {\"D_r\": D_r, \"B\": B, \"G\": 1, \"I\": 4, \"L0\": 0.4, \"L1\": 3.5, \"beta\": beta}\n",
    "eval_kwargs = {\"vpt_steps\": 325, \"n_RMSE\": 10000, \"w2_steps\": int(1e1), \"vpt_epsilon\": 0.5,\\\n",
    "                \"Lyapunov_time\": 1/2.27, \"n_sample_w2\": 20000}"
   ]
  }
 ],
 "metadata": {
  "kernelspec": {
   "display_name": "Python 3 (ipykernel)",
   "language": "python",
   "name": "python3"
  },
  "language_info": {
   "codemirror_mode": {
    "name": "ipython",
    "version": 3
   },
   "file_extension": ".py",
   "mimetype": "text/x-python",
   "name": "python",
   "nbconvert_exporter": "python",
   "pygments_lexer": "ipython3",
   "version": "3.11.5"
  }
 },
 "nbformat": 4,
 "nbformat_minor": 5
}
