{
 "cells": [
  {
   "cell_type": "code",
   "execution_count": null,
   "id": "8bbc933b-81b7-4925-93c5-4085ee13f0dc",
   "metadata": {},
   "outputs": [],
   "source": [
    "import os, sys \n",
    "from pathlib import Path\n",
    "from os.path import dirname, realpath\n",
    "script_dir = Path(dirname(realpath('.')))\n",
    "module_dir = str(script_dir)\n",
    "sys.path.insert(0, module_dir + '/modules')\n",
    "import numpy as np\n",
    "import utility as ut\n",
    "import matplotlib.pyplot as plt\n",
    "import pandas as pd\n",
    "import warnings\n",
    "from scipy import stats\n",
    "import seaborn as sns\n",
    "import oneshot as sm\n",
    "import rfm, skipRFM, deepSkip, localSkip, localDeepSkip\n",
    "# import parallel_euler as arch1\n",
    "import torch, time\n",
    "from torch import nn\n",
    "import ks, l63, l96, ks_torch, ks0\n",
    "import config\n",
    "\n",
    "dynamical_system = 'L63'\n",
    "L = 12\n",
    "folder = f'../data/KS-{L}'\n",
    "Uo = torch.tensor(np.load(f'../data/{dynamical_system}-{L}/train.npy'))[:,:100000]\n",
    "Vo = torch.tensor(np.load(f'../data/{dynamical_system}-{L}/test.npy'))"
   ]
  },
  {
   "cell_type": "code",
   "execution_count": null,
   "id": "473e0919-a72c-4543-bd34-0720b30f1daa",
   "metadata": {},
   "outputs": [],
   "source": [
    "***"
   ]
  }
 ],
 "metadata": {
  "kernelspec": {
   "display_name": "Python 3 (ipykernel)",
   "language": "python",
   "name": "python3"
  },
  "language_info": {
   "codemirror_mode": {
    "name": "ipython",
    "version": 3
   },
   "file_extension": ".py",
   "mimetype": "text/x-python",
   "name": "python",
   "nbconvert_exporter": "python",
   "pygments_lexer": "ipython3",
   "version": "3.11.5"
  }
 },
 "nbformat": 4,
 "nbformat_minor": 5
}
